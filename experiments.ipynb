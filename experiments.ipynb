{
 "cells": [
  {
   "cell_type": "markdown",
   "metadata": {},
   "source": [
    "# experiments"
   ]
  },
  {
   "cell_type": "code",
   "execution_count": 10,
   "metadata": {
    "collapsed": false
   },
   "outputs": [],
   "source": [
    "import pandas as pd\n",
    "eva=pd.read_csv('data/Datamart Evaluations.csv',sep=';')\n",
    "rat=pd.read_csv('data/Datamart Ratings.csv',sep=';')"
   ]
  },
  {
   "cell_type": "markdown",
   "metadata": {},
   "source": [
    "## preprocessing"
   ]
  },
  {
   "cell_type": "code",
   "execution_count": null,
   "metadata": {
    "collapsed": true
   },
   "outputs": [],
   "source": [
    "import nltk\n",
    "import string\n",
    "import unicodedata\n",
    "from BeautifulSoup import BeautifulStoneSoup\n",
    "\n",
    "def process(txt):\n",
    "    #txt = txt[txt.find(\"\\n\\n\"):] # elimination de l'entete (on ne conserve que les caractères après la première occurence du motif\n",
    "    txt = unicodedata.normalize(\"NFKD\",txt).encode(\"utf-8\",\"ignore\") # elimination des caractères spéciaux, accents...\n",
    "    punc = string.punctuation    # recupération de la ponctuation\n",
    "    punc += u'\\n\\r\\t\\\\'          # ajouts de caractères à enlever\n",
    "    table =string.maketrans(punc, ' '*len(punc))  # table de conversion punc -> espace\n",
    "    txt = string.translate(txt,table).lower() # elimination des accents + minuscules\n",
    "    return txt\n",
    "\n",
    "def conv_html(htmlstring):\n",
    "    return BeautifulStoneSoup(htmlstring,\n",
    "                   convertEntities=BeautifulStoneSoup.HTML_ENTITIES).contents[0]"
   ]
  },
  {
   "cell_type": "code",
   "execution_count": 32,
   "metadata": {
    "collapsed": false
   },
   "outputs": [
    {
     "name": "stdout",
     "output_type": "stream",
     "text": [
      "Index([u'rating', u'Nom', u'Ville', u'Arrondissement', u'capital', u'forme juridique', u'nombre etabl', u'comment'], dtype='object')\n",
      "Index([u'Evaluation', u'Nom', u'Annee', u'Mois', u'Jour', u'Ville', u'Arrondissement', u'capital', u'forme juridique', u'nombre etabl', u'rating'], dtype='object')\n"
     ]
    }
   ],
   "source": [
    "print rat.columns\n",
    "print eva.columns"
   ]
  },
  {
   "cell_type": "code",
   "execution_count": 39,
   "metadata": {
    "collapsed": true
   },
   "outputs": [],
   "source": [
    "rat['comment'] = rat['comment'].apply(lambda s: process(conv_html(s)))\n",
    "rat['Nom'] = rat['Nom'].apply(lambda s: process(conv_html(s)))\n",
    "rat['forme juridique'] = rat['forme juridique'].apply(lambda s: process(conv_html(s)))\n",
    "\n",
    "eva['forme juridique'] = eva['forme juridique'].apply(lambda s: process(conv_html(s)))\n",
    "eva['Nom'] = eva['Nom'].apply(lambda s: process(conv_html(s)))"
   ]
  },
  {
   "cell_type": "code",
   "execution_count": 71,
   "metadata": {
    "collapsed": false
   },
   "outputs": [
    {
     "data": {
      "text/plain": [
       "'4,00'"
      ]
     },
     "execution_count": 71,
     "metadata": {},
     "output_type": "execute_result"
    }
   ],
   "source": [
    "rat['rating'].loc[0]"
   ]
  },
  {
   "cell_type": "code",
   "execution_count": 75,
   "metadata": {
    "collapsed": false
   },
   "outputs": [],
   "source": [
    "rat['capital'] = rat['capital'].apply(lambda s:float(s.replace(' ','').replace(',','.')))\n",
    "rat['rating'] = rat['rating'].apply(lambda s:float(s.replace(' ','').replace(',','.')))"
   ]
  },
  {
   "cell_type": "code",
   "execution_count": 77,
   "metadata": {
    "collapsed": true
   },
   "outputs": [],
   "source": [
    "rat['nombre etabl'] = rat['nombre etabl'].apply(lambda s:float(s.replace(' ','').replace(',','.')))"
   ]
  },
  {
   "cell_type": "code",
   "execution_count": null,
   "metadata": {
    "collapsed": false
   },
   "outputs": [],
   "source": [
    "eva['capital'] = eva['capital'].apply(lambda s:float(s.replace(' ','').replace(',','.')))"
   ]
  },
  {
   "cell_type": "code",
   "execution_count": 81,
   "metadata": {
    "collapsed": true
   },
   "outputs": [],
   "source": [
    "eva['nombre etabl'] = eva['nombre etabl'].apply(lambda s:float(s.replace(' ','').replace(',','.')))"
   ]
  },
  {
   "cell_type": "code",
   "execution_count": 82,
   "metadata": {
    "collapsed": true
   },
   "outputs": [],
   "source": [
    "eva['rating'] = eva['rating'].apply(lambda s:float(s.replace(' ','').replace(',','.')))"
   ]
  },
  {
   "cell_type": "code",
   "execution_count": 84,
   "metadata": {
    "collapsed": true
   },
   "outputs": [],
   "source": [
    "eva['Evaluation'] = eva['Evaluation'].apply(lambda s:float(s.replace(' ','').replace(',','.')))"
   ]
  },
  {
   "cell_type": "code",
   "execution_count": 85,
   "metadata": {
    "collapsed": true
   },
   "outputs": [],
   "source": [
    "eva.to_csv('data/eval_processed.csv', sep = ';')\n",
    "rat.to_csv('data/rati_processed.csv', sep = ';')"
   ]
  },
  {
   "cell_type": "code",
   "execution_count": 56,
   "metadata": {
    "collapsed": false
   },
   "outputs": [
    {
     "data": {
      "text/plain": [
       "481"
      ]
     },
     "execution_count": 56,
     "metadata": {},
     "output_type": "execute_result"
    }
   ],
   "source": [
    "import numpy as np\n",
    "len(eva[eva['Evaluation']=='20,00'])/5"
   ]
  }
 ],
 "metadata": {
  "kernelspec": {
   "display_name": "Python 2",
   "language": "python",
   "name": "python2"
  },
  "language_info": {
   "codemirror_mode": {
    "name": "ipython",
    "version": 2
   },
   "file_extension": ".py",
   "mimetype": "text/x-python",
   "name": "python",
   "nbconvert_exporter": "python",
   "pygments_lexer": "ipython2",
   "version": "2.7.9"
  }
 },
 "nbformat": 4,
 "nbformat_minor": 0
}
